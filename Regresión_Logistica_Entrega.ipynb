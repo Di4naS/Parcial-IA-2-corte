{
  "nbformat": 4,
  "nbformat_minor": 0,
  "metadata": {
    "colab": {
      "provenance": [],
      "toc_visible": true,
      "authorship_tag": "ABX9TyOf/znUgIcq4FDEiK80cLyN",
      "include_colab_link": true
    },
    "kernelspec": {
      "name": "python3",
      "display_name": "Python 3"
    },
    "language_info": {
      "name": "python"
    }
  },
  "cells": [
    {
      "cell_type": "markdown",
      "metadata": {
        "id": "view-in-github",
        "colab_type": "text"
      },
      "source": [
        "<a href=\"https://colab.research.google.com/github/Di4naS/Parcial-IA-2-corte/blob/main/Regresi%C3%B3n_Logistica_Entrega.ipynb\" target=\"_parent\"><img src=\"https://colab.research.google.com/assets/colab-badge.svg\" alt=\"Open In Colab\"/></a>"
      ]
    },
    {
      "cell_type": "markdown",
      "source": [
        "# **Taller: Regresión Logistica**\n",
        "\n",
        "## **Fase 1: Definición del Problema de Negocio**\n",
        "\n",
        "**Objetivo general:** Predecir si una persona fuma o no fuma basándose en sus características personales y médicas.\n",
        "\n",
        "**Contexto:** Las aseguradoras necesitan identificar factores de riesgo en sus clientes. Fumar es uno de los hábitos que más incrementa el costo del seguro médico, por lo que detectar patrones asociados con el tabaquismo puede ayudar a estimar el riesgo y ajustar las políticas de prevención o precios.\n",
        "\n",
        "## **Tipo de problema**\n",
        "\n",
        "* **Tipo de Machine Learning:** Clasificación binaria\n",
        "* **Algoritmo:** Regresión Logística\n",
        "* **Variable objetivo (Y):** smoker [yes = 1 (fuma)], [no = 0 (no fuma)]\n",
        "* **Variables predictoras (X):** age, bmi, children, region, sex, charges\n",
        "\n",
        "## **Métrica de Éxito**\n",
        "\n",
        "* **Accuracy (Exactitud):** Porcentaje total de predicciones correctas.\n",
        "* **Precision y Recall:** Para evaluar qué tan bien el modelo detecta a las personas fumadoras sin confundirlas con no fumadores.\n",
        "* **F1-Score:** Promedio entre precisión y exhaustividad.\n",
        "* **Matriz de confusión:** Para visualizar los aciertos y errores."
      ],
      "metadata": {
        "id": "Yvb79Lwr18QL"
      }
    },
    {
      "cell_type": "markdown",
      "source": [
        "## **Justificación:**\n",
        "Porque el hábito de fumar influye directamente en los costos y el riesgo médico, lo que resulta relevante para las aseguradoras."
      ],
      "metadata": {
        "id": "7VAcRokZB8cP"
      }
    },
    {
      "cell_type": "markdown",
      "source": [
        "### **Variables incluidas**\n",
        "\n",
        "*   **age:** Edad del asegurado. Personas más mayores suelen tener más riesgo de enfermedades, lo que incrementa el costo del seguro.\n",
        "*   **sex:** Género de la persona (male/female). Puede tener cierta influencia en los cálculos médicos y del seguro. Comunmente 1=Male y 2=Female.\n",
        "*   **bmi:** Índice de Masa Corporal (BMI). Es una medida del peso en relación con la estatura. Un BMI elevado se asocia con mayor riesgo de enfermedades (diabetes, hipertensión, etc.), y por ende, con seguros más caros.\n",
        "*   **children:** Número de hijos/dependientes cubiertos por el seguro.\n",
        "*   **smoker:** Indica si la persona fuma (yes/no). Este es uno de los factores más influyentes, ya que fumar incrementa mucho el costo del seguro.\n",
        "*   **region:** Región de residencia en EE. UU. (noreste, sureste, suroeste, noroeste). Diferencias geográficas pueden reflejarse en costos médicos y de seguros.\n",
        "* **charges:** Costo anual del seguro médico en dólares.\n",
        "Esta es la variable objetivo que queremos predecir. Significa literalmente:\n",
        " Los cargos/costos en dólares que una persona debe pagar por su seguro médico anual. Es decir, cuánto le cobra la aseguradora al cliente en función de sus características personales y de salud."
      ],
      "metadata": {
        "id": "XIHKUPxY3AVS"
      }
    },
    {
      "cell_type": "code",
      "execution_count": null,
      "metadata": {
        "id": "ymhx6wWM0sKD"
      },
      "outputs": [],
      "source": [
        "# --- Importación de librerías ---\n",
        "\n",
        "# Manejo y análisis de datos\n",
        "import pandas as pd\n",
        "import numpy as np\n",
        "\n",
        "# Visualización\n",
        "import matplotlib.pyplot as plt\n",
        "import seaborn as sns\n",
        "\n",
        "# Modelado y métricas (scikit-learn)\n",
        "from sklearn.model_selection import train_test_split\n",
        "from sklearn.linear_model import LogisticRegression\n",
        "from sklearn.metrics import classification_report, confusion_matrix, accuracy_score\n"
      ]
    },
    {
      "cell_type": "markdown",
      "source": [
        "## **Fase 2**: Recolección de Datos"
      ],
      "metadata": {
        "id": "UUrk4rNy3Vas"
      }
    },
    {
      "cell_type": "code",
      "source": [
        "# Cargar el dataset desde el archivo CSV\n",
        "df = pd.read_csv(\"Medical-Insurance.csv\")\n",
        "\n",
        "# Ver las primeras filas para confirmar que se cargó bien\n",
        "df.head()\n",
        "\n",
        "# Tamaño del dataset\n",
        "print(\"Filas y columnas:\", df.shape)\n",
        "\n",
        "# Información general de los tipos de datos\n",
        "df.info()\n",
        "\n",
        "# Comprobar valores nulos\n",
        "df.isnull().sum()"
      ],
      "metadata": {
        "colab": {
          "base_uri": "https://localhost:8080/",
          "height": 564
        },
        "id": "IkjNVhoB3WTA",
        "outputId": "0f00cd55-bdda-45a3-e446-4cafa20ef8bd"
      },
      "execution_count": null,
      "outputs": [
        {
          "output_type": "stream",
          "name": "stdout",
          "text": [
            "Filas y columnas: (2772, 7)\n",
            "<class 'pandas.core.frame.DataFrame'>\n",
            "RangeIndex: 2772 entries, 0 to 2771\n",
            "Data columns (total 7 columns):\n",
            " #   Column    Non-Null Count  Dtype  \n",
            "---  ------    --------------  -----  \n",
            " 0   Age       2772 non-null   object \n",
            " 1   Sex       2772 non-null   int64  \n",
            " 2   BMI       2772 non-null   float64\n",
            " 3   Children  2772 non-null   int64  \n",
            " 4   Smoker    2772 non-null   object \n",
            " 5   Region    2772 non-null   int64  \n",
            " 6   Charges   2772 non-null   float64\n",
            "dtypes: float64(2), int64(3), object(2)\n",
            "memory usage: 151.7+ KB\n"
          ]
        },
        {
          "output_type": "execute_result",
          "data": {
            "text/plain": [
              "Age         0\n",
              "Sex         0\n",
              "BMI         0\n",
              "Children    0\n",
              "Smoker      0\n",
              "Region      0\n",
              "Charges     0\n",
              "dtype: int64"
            ],
            "text/html": [
              "<div>\n",
              "<style scoped>\n",
              "    .dataframe tbody tr th:only-of-type {\n",
              "        vertical-align: middle;\n",
              "    }\n",
              "\n",
              "    .dataframe tbody tr th {\n",
              "        vertical-align: top;\n",
              "    }\n",
              "\n",
              "    .dataframe thead th {\n",
              "        text-align: right;\n",
              "    }\n",
              "</style>\n",
              "<table border=\"1\" class=\"dataframe\">\n",
              "  <thead>\n",
              "    <tr style=\"text-align: right;\">\n",
              "      <th></th>\n",
              "      <th>0</th>\n",
              "    </tr>\n",
              "  </thead>\n",
              "  <tbody>\n",
              "    <tr>\n",
              "      <th>Age</th>\n",
              "      <td>0</td>\n",
              "    </tr>\n",
              "    <tr>\n",
              "      <th>Sex</th>\n",
              "      <td>0</td>\n",
              "    </tr>\n",
              "    <tr>\n",
              "      <th>BMI</th>\n",
              "      <td>0</td>\n",
              "    </tr>\n",
              "    <tr>\n",
              "      <th>Children</th>\n",
              "      <td>0</td>\n",
              "    </tr>\n",
              "    <tr>\n",
              "      <th>Smoker</th>\n",
              "      <td>0</td>\n",
              "    </tr>\n",
              "    <tr>\n",
              "      <th>Region</th>\n",
              "      <td>0</td>\n",
              "    </tr>\n",
              "    <tr>\n",
              "      <th>Charges</th>\n",
              "      <td>0</td>\n",
              "    </tr>\n",
              "  </tbody>\n",
              "</table>\n",
              "</div><br><label><b>dtype:</b> int64</label>"
            ]
          },
          "metadata": {},
          "execution_count": 63
        }
      ]
    },
    {
      "cell_type": "markdown",
      "source": [
        "## **Interpretación:**\n",
        "* Las variables Sex, Children y Region son numéricas enteras codificadas.\n",
        "* BMI y Charges son numéricas continuas.\n",
        "* Smoker (nuestra variable objetivo) y Age están en formato object, por lo tanto, antes de modelar será necesario convertirlas a formato numérico.\n",
        "* En particular, parece que Age, aunque debería ser numérica, está en formato texto, así que habrá que convertirla con pd.to_numeric()."
      ],
      "metadata": {
        "id": "tPM5og1Y4u3J"
      }
    },
    {
      "cell_type": "markdown",
      "source": [
        "## **Fase 3**: Análisis Exploratorio de Datos (EDA)\n",
        "\n",
        "## 3.1. Inspección Inicial"
      ],
      "metadata": {
        "id": "Jcy1E0ua3gez"
      }
    },
    {
      "cell_type": "code",
      "source": [
        "# Vemos las primeras filas, los tipos de datos y un resumen estadístico.\n",
        "print(\"Primeras 10 filas del dataset:\")\n",
        "print(df.head(10))\n",
        "\n",
        "print(\"\\nInformación general del DataFrame:\")\n",
        "df.info()\n",
        "\n",
        "print(\"\\nResumen estadístico de las variables numéricas:\")\n",
        "df.describe()"
      ],
      "metadata": {
        "colab": {
          "base_uri": "https://localhost:8080/",
          "height": 821
        },
        "id": "ADRAa2zB3l0U",
        "outputId": "3d0c52c0-6bbf-4b9d-fe21-a63cde557862"
      },
      "execution_count": null,
      "outputs": [
        {
          "output_type": "stream",
          "name": "stdout",
          "text": [
            "Primeras 10 filas del dataset:\n",
            "  Age  Sex     BMI  Children Smoker  Region      Charges\n",
            "0  19    1  27.900         0      1       3  16884.92400\n",
            "1  18    2  33.770         1      0       4   1725.55230\n",
            "2  28    2  33.000         3      0       4   4449.46200\n",
            "3  33    2  22.705         0      0       1  21984.47061\n",
            "4  32    2  28.880         0      0       1   3866.85520\n",
            "5  31    1  25.740         0      ?       4   3756.62160\n",
            "6  46    1  33.440         1      0       4   8240.58960\n",
            "7  37    1  27.740         3      0       1   7281.50560\n",
            "8  37    2  29.830         2      0       2   6406.41070\n",
            "9  60    1  25.840         0      0       1  28923.13692\n",
            "\n",
            "Información general del DataFrame:\n",
            "<class 'pandas.core.frame.DataFrame'>\n",
            "RangeIndex: 2772 entries, 0 to 2771\n",
            "Data columns (total 7 columns):\n",
            " #   Column    Non-Null Count  Dtype  \n",
            "---  ------    --------------  -----  \n",
            " 0   Age       2772 non-null   object \n",
            " 1   Sex       2772 non-null   int64  \n",
            " 2   BMI       2772 non-null   float64\n",
            " 3   Children  2772 non-null   int64  \n",
            " 4   Smoker    2772 non-null   object \n",
            " 5   Region    2772 non-null   int64  \n",
            " 6   Charges   2772 non-null   float64\n",
            "dtypes: float64(2), int64(3), object(2)\n",
            "memory usage: 151.7+ KB\n",
            "\n",
            "Resumen estadístico de las variables numéricas:\n"
          ]
        },
        {
          "output_type": "execute_result",
          "data": {
            "text/plain": [
              "               Sex          BMI     Children       Region       Charges\n",
              "count  2772.000000  2772.000000  2772.000000  2772.000000   2772.000000\n",
              "mean      1.507215    30.701349     1.101732     2.559885  13261.369959\n",
              "std       0.500038     6.129449     1.214806     1.130761  12151.768945\n",
              "min       1.000000    15.960000     0.000000     1.000000   1121.873900\n",
              "25%       1.000000    26.220000     0.000000     2.000000   4687.797000\n",
              "50%       2.000000    30.447500     1.000000     3.000000   9333.014350\n",
              "75%       2.000000    34.770000     2.000000     4.000000  16577.779500\n",
              "max       2.000000    53.130000     5.000000     4.000000  63770.428010"
            ],
            "text/html": [
              "\n",
              "  <div id=\"df-c83c3d00-c973-42c5-befb-b9d9a1d9a598\" class=\"colab-df-container\">\n",
              "    <div>\n",
              "<style scoped>\n",
              "    .dataframe tbody tr th:only-of-type {\n",
              "        vertical-align: middle;\n",
              "    }\n",
              "\n",
              "    .dataframe tbody tr th {\n",
              "        vertical-align: top;\n",
              "    }\n",
              "\n",
              "    .dataframe thead th {\n",
              "        text-align: right;\n",
              "    }\n",
              "</style>\n",
              "<table border=\"1\" class=\"dataframe\">\n",
              "  <thead>\n",
              "    <tr style=\"text-align: right;\">\n",
              "      <th></th>\n",
              "      <th>Sex</th>\n",
              "      <th>BMI</th>\n",
              "      <th>Children</th>\n",
              "      <th>Region</th>\n",
              "      <th>Charges</th>\n",
              "    </tr>\n",
              "  </thead>\n",
              "  <tbody>\n",
              "    <tr>\n",
              "      <th>count</th>\n",
              "      <td>2772.000000</td>\n",
              "      <td>2772.000000</td>\n",
              "      <td>2772.000000</td>\n",
              "      <td>2772.000000</td>\n",
              "      <td>2772.000000</td>\n",
              "    </tr>\n",
              "    <tr>\n",
              "      <th>mean</th>\n",
              "      <td>1.507215</td>\n",
              "      <td>30.701349</td>\n",
              "      <td>1.101732</td>\n",
              "      <td>2.559885</td>\n",
              "      <td>13261.369959</td>\n",
              "    </tr>\n",
              "    <tr>\n",
              "      <th>std</th>\n",
              "      <td>0.500038</td>\n",
              "      <td>6.129449</td>\n",
              "      <td>1.214806</td>\n",
              "      <td>1.130761</td>\n",
              "      <td>12151.768945</td>\n",
              "    </tr>\n",
              "    <tr>\n",
              "      <th>min</th>\n",
              "      <td>1.000000</td>\n",
              "      <td>15.960000</td>\n",
              "      <td>0.000000</td>\n",
              "      <td>1.000000</td>\n",
              "      <td>1121.873900</td>\n",
              "    </tr>\n",
              "    <tr>\n",
              "      <th>25%</th>\n",
              "      <td>1.000000</td>\n",
              "      <td>26.220000</td>\n",
              "      <td>0.000000</td>\n",
              "      <td>2.000000</td>\n",
              "      <td>4687.797000</td>\n",
              "    </tr>\n",
              "    <tr>\n",
              "      <th>50%</th>\n",
              "      <td>2.000000</td>\n",
              "      <td>30.447500</td>\n",
              "      <td>1.000000</td>\n",
              "      <td>3.000000</td>\n",
              "      <td>9333.014350</td>\n",
              "    </tr>\n",
              "    <tr>\n",
              "      <th>75%</th>\n",
              "      <td>2.000000</td>\n",
              "      <td>34.770000</td>\n",
              "      <td>2.000000</td>\n",
              "      <td>4.000000</td>\n",
              "      <td>16577.779500</td>\n",
              "    </tr>\n",
              "    <tr>\n",
              "      <th>max</th>\n",
              "      <td>2.000000</td>\n",
              "      <td>53.130000</td>\n",
              "      <td>5.000000</td>\n",
              "      <td>4.000000</td>\n",
              "      <td>63770.428010</td>\n",
              "    </tr>\n",
              "  </tbody>\n",
              "</table>\n",
              "</div>\n",
              "    <div class=\"colab-df-buttons\">\n",
              "\n",
              "  <div class=\"colab-df-container\">\n",
              "    <button class=\"colab-df-convert\" onclick=\"convertToInteractive('df-c83c3d00-c973-42c5-befb-b9d9a1d9a598')\"\n",
              "            title=\"Convert this dataframe to an interactive table.\"\n",
              "            style=\"display:none;\">\n",
              "\n",
              "  <svg xmlns=\"http://www.w3.org/2000/svg\" height=\"24px\" viewBox=\"0 -960 960 960\">\n",
              "    <path d=\"M120-120v-720h720v720H120Zm60-500h600v-160H180v160Zm220 220h160v-160H400v160Zm0 220h160v-160H400v160ZM180-400h160v-160H180v160Zm440 0h160v-160H620v160ZM180-180h160v-160H180v160Zm440 0h160v-160H620v160Z\"/>\n",
              "  </svg>\n",
              "    </button>\n",
              "\n",
              "  <style>\n",
              "    .colab-df-container {\n",
              "      display:flex;\n",
              "      gap: 12px;\n",
              "    }\n",
              "\n",
              "    .colab-df-convert {\n",
              "      background-color: #E8F0FE;\n",
              "      border: none;\n",
              "      border-radius: 50%;\n",
              "      cursor: pointer;\n",
              "      display: none;\n",
              "      fill: #1967D2;\n",
              "      height: 32px;\n",
              "      padding: 0 0 0 0;\n",
              "      width: 32px;\n",
              "    }\n",
              "\n",
              "    .colab-df-convert:hover {\n",
              "      background-color: #E2EBFA;\n",
              "      box-shadow: 0px 1px 2px rgba(60, 64, 67, 0.3), 0px 1px 3px 1px rgba(60, 64, 67, 0.15);\n",
              "      fill: #174EA6;\n",
              "    }\n",
              "\n",
              "    .colab-df-buttons div {\n",
              "      margin-bottom: 4px;\n",
              "    }\n",
              "\n",
              "    [theme=dark] .colab-df-convert {\n",
              "      background-color: #3B4455;\n",
              "      fill: #D2E3FC;\n",
              "    }\n",
              "\n",
              "    [theme=dark] .colab-df-convert:hover {\n",
              "      background-color: #434B5C;\n",
              "      box-shadow: 0px 1px 3px 1px rgba(0, 0, 0, 0.15);\n",
              "      filter: drop-shadow(0px 1px 2px rgba(0, 0, 0, 0.3));\n",
              "      fill: #FFFFFF;\n",
              "    }\n",
              "  </style>\n",
              "\n",
              "    <script>\n",
              "      const buttonEl =\n",
              "        document.querySelector('#df-c83c3d00-c973-42c5-befb-b9d9a1d9a598 button.colab-df-convert');\n",
              "      buttonEl.style.display =\n",
              "        google.colab.kernel.accessAllowed ? 'block' : 'none';\n",
              "\n",
              "      async function convertToInteractive(key) {\n",
              "        const element = document.querySelector('#df-c83c3d00-c973-42c5-befb-b9d9a1d9a598');\n",
              "        const dataTable =\n",
              "          await google.colab.kernel.invokeFunction('convertToInteractive',\n",
              "                                                    [key], {});\n",
              "        if (!dataTable) return;\n",
              "\n",
              "        const docLinkHtml = 'Like what you see? Visit the ' +\n",
              "          '<a target=\"_blank\" href=https://colab.research.google.com/notebooks/data_table.ipynb>data table notebook</a>'\n",
              "          + ' to learn more about interactive tables.';\n",
              "        element.innerHTML = '';\n",
              "        dataTable['output_type'] = 'display_data';\n",
              "        await google.colab.output.renderOutput(dataTable, element);\n",
              "        const docLink = document.createElement('div');\n",
              "        docLink.innerHTML = docLinkHtml;\n",
              "        element.appendChild(docLink);\n",
              "      }\n",
              "    </script>\n",
              "  </div>\n",
              "\n",
              "\n",
              "    <div id=\"df-2f097f20-e6d5-47bc-9893-b6fc529eadad\">\n",
              "      <button class=\"colab-df-quickchart\" onclick=\"quickchart('df-2f097f20-e6d5-47bc-9893-b6fc529eadad')\"\n",
              "                title=\"Suggest charts\"\n",
              "                style=\"display:none;\">\n",
              "\n",
              "<svg xmlns=\"http://www.w3.org/2000/svg\" height=\"24px\"viewBox=\"0 0 24 24\"\n",
              "     width=\"24px\">\n",
              "    <g>\n",
              "        <path d=\"M19 3H5c-1.1 0-2 .9-2 2v14c0 1.1.9 2 2 2h14c1.1 0 2-.9 2-2V5c0-1.1-.9-2-2-2zM9 17H7v-7h2v7zm4 0h-2V7h2v10zm4 0h-2v-4h2v4z\"/>\n",
              "    </g>\n",
              "</svg>\n",
              "      </button>\n",
              "\n",
              "<style>\n",
              "  .colab-df-quickchart {\n",
              "      --bg-color: #E8F0FE;\n",
              "      --fill-color: #1967D2;\n",
              "      --hover-bg-color: #E2EBFA;\n",
              "      --hover-fill-color: #174EA6;\n",
              "      --disabled-fill-color: #AAA;\n",
              "      --disabled-bg-color: #DDD;\n",
              "  }\n",
              "\n",
              "  [theme=dark] .colab-df-quickchart {\n",
              "      --bg-color: #3B4455;\n",
              "      --fill-color: #D2E3FC;\n",
              "      --hover-bg-color: #434B5C;\n",
              "      --hover-fill-color: #FFFFFF;\n",
              "      --disabled-bg-color: #3B4455;\n",
              "      --disabled-fill-color: #666;\n",
              "  }\n",
              "\n",
              "  .colab-df-quickchart {\n",
              "    background-color: var(--bg-color);\n",
              "    border: none;\n",
              "    border-radius: 50%;\n",
              "    cursor: pointer;\n",
              "    display: none;\n",
              "    fill: var(--fill-color);\n",
              "    height: 32px;\n",
              "    padding: 0;\n",
              "    width: 32px;\n",
              "  }\n",
              "\n",
              "  .colab-df-quickchart:hover {\n",
              "    background-color: var(--hover-bg-color);\n",
              "    box-shadow: 0 1px 2px rgba(60, 64, 67, 0.3), 0 1px 3px 1px rgba(60, 64, 67, 0.15);\n",
              "    fill: var(--button-hover-fill-color);\n",
              "  }\n",
              "\n",
              "  .colab-df-quickchart-complete:disabled,\n",
              "  .colab-df-quickchart-complete:disabled:hover {\n",
              "    background-color: var(--disabled-bg-color);\n",
              "    fill: var(--disabled-fill-color);\n",
              "    box-shadow: none;\n",
              "  }\n",
              "\n",
              "  .colab-df-spinner {\n",
              "    border: 2px solid var(--fill-color);\n",
              "    border-color: transparent;\n",
              "    border-bottom-color: var(--fill-color);\n",
              "    animation:\n",
              "      spin 1s steps(1) infinite;\n",
              "  }\n",
              "\n",
              "  @keyframes spin {\n",
              "    0% {\n",
              "      border-color: transparent;\n",
              "      border-bottom-color: var(--fill-color);\n",
              "      border-left-color: var(--fill-color);\n",
              "    }\n",
              "    20% {\n",
              "      border-color: transparent;\n",
              "      border-left-color: var(--fill-color);\n",
              "      border-top-color: var(--fill-color);\n",
              "    }\n",
              "    30% {\n",
              "      border-color: transparent;\n",
              "      border-left-color: var(--fill-color);\n",
              "      border-top-color: var(--fill-color);\n",
              "      border-right-color: var(--fill-color);\n",
              "    }\n",
              "    40% {\n",
              "      border-color: transparent;\n",
              "      border-right-color: var(--fill-color);\n",
              "      border-top-color: var(--fill-color);\n",
              "    }\n",
              "    60% {\n",
              "      border-color: transparent;\n",
              "      border-right-color: var(--fill-color);\n",
              "    }\n",
              "    80% {\n",
              "      border-color: transparent;\n",
              "      border-right-color: var(--fill-color);\n",
              "      border-bottom-color: var(--fill-color);\n",
              "    }\n",
              "    90% {\n",
              "      border-color: transparent;\n",
              "      border-bottom-color: var(--fill-color);\n",
              "    }\n",
              "  }\n",
              "</style>\n",
              "\n",
              "      <script>\n",
              "        async function quickchart(key) {\n",
              "          const quickchartButtonEl =\n",
              "            document.querySelector('#' + key + ' button');\n",
              "          quickchartButtonEl.disabled = true;  // To prevent multiple clicks.\n",
              "          quickchartButtonEl.classList.add('colab-df-spinner');\n",
              "          try {\n",
              "            const charts = await google.colab.kernel.invokeFunction(\n",
              "                'suggestCharts', [key], {});\n",
              "          } catch (error) {\n",
              "            console.error('Error during call to suggestCharts:', error);\n",
              "          }\n",
              "          quickchartButtonEl.classList.remove('colab-df-spinner');\n",
              "          quickchartButtonEl.classList.add('colab-df-quickchart-complete');\n",
              "        }\n",
              "        (() => {\n",
              "          let quickchartButtonEl =\n",
              "            document.querySelector('#df-2f097f20-e6d5-47bc-9893-b6fc529eadad button');\n",
              "          quickchartButtonEl.style.display =\n",
              "            google.colab.kernel.accessAllowed ? 'block' : 'none';\n",
              "        })();\n",
              "      </script>\n",
              "    </div>\n",
              "\n",
              "    </div>\n",
              "  </div>\n"
            ],
            "application/vnd.google.colaboratory.intrinsic+json": {
              "type": "dataframe",
              "summary": "{\n  \"name\": \"df\",\n  \"rows\": 8,\n  \"fields\": [\n    {\n      \"column\": \"Sex\",\n      \"properties\": {\n        \"dtype\": \"number\",\n        \"std\": 979.5447176521986,\n        \"min\": 0.5000381435669645,\n        \"max\": 2772.0,\n        \"num_unique_values\": 5,\n        \"samples\": [\n          1.5072150072150072,\n          2.0,\n          0.5000381435669645\n        ],\n        \"semantic_type\": \"\",\n        \"description\": \"\"\n      }\n    },\n    {\n      \"column\": \"BMI\",\n      \"properties\": {\n        \"dtype\": \"number\",\n        \"std\": 970.1788543044319,\n        \"min\": 6.129448694965217,\n        \"max\": 2772.0,\n        \"num_unique_values\": 8,\n        \"samples\": [\n          30.70134920634921,\n          30.447499999999998,\n          2772.0\n        ],\n        \"semantic_type\": \"\",\n        \"description\": \"\"\n      }\n    },\n    {\n      \"column\": \"Children\",\n      \"properties\": {\n        \"dtype\": \"number\",\n        \"std\": 979.5302099405272,\n        \"min\": 0.0,\n        \"max\": 2772.0,\n        \"num_unique_values\": 7,\n        \"samples\": [\n          2772.0,\n          1.1017316017316017,\n          2.0\n        ],\n        \"semantic_type\": \"\",\n        \"description\": \"\"\n      }\n    },\n    {\n      \"column\": \"Region\",\n      \"properties\": {\n        \"dtype\": \"number\",\n        \"std\": 979.1571517071769,\n        \"min\": 1.0,\n        \"max\": 2772.0,\n        \"num_unique_values\": 7,\n        \"samples\": [\n          2772.0,\n          2.55988455988456,\n          3.0\n        ],\n        \"semantic_type\": \"\",\n        \"description\": \"\"\n      }\n    },\n    {\n      \"column\": \"Charges\",\n      \"properties\": {\n        \"dtype\": \"number\",\n        \"std\": 20252.240669716044,\n        \"min\": 1121.8739,\n        \"max\": 63770.42801,\n        \"num_unique_values\": 8,\n        \"samples\": [\n          13261.369959046897,\n          9333.014350000001,\n          2772.0\n        ],\n        \"semantic_type\": \"\",\n        \"description\": \"\"\n      }\n    }\n  ]\n}"
            }
          },
          "metadata": {},
          "execution_count": 64
        }
      ]
    },
    {
      "cell_type": "markdown",
      "source": [
        "## **Conclusiones de la inspección inicial**\n",
        "\n",
        "* No hay valores nulos, pero sí hay un valor incorrecto en Smoker (“?”).\n",
        "* La columna Age debe transformarse a numérica.\n",
        "* Las variables presentan rangos y dispersiones esperadas, sin anomalías evidentes.\n",
        "* El dataset está listo para pasar a un análisis más visual (gráficos) y luego a la fase de limpieza/preparación."
      ],
      "metadata": {
        "id": "jfKJo3pV5g26"
      }
    },
    {
      "cell_type": "markdown",
      "source": [
        "# **Fase 4: Limpieza y Preparación de los Datos**"
      ],
      "metadata": {
        "id": "ie-8WuaA58Cz"
      }
    },
    {
      "cell_type": "code",
      "source": [
        "# Hacer una copia del dataset original\n",
        "df_clean = df.copy()"
      ],
      "metadata": {
        "id": "STisBYyi5nsy"
      },
      "execution_count": null,
      "outputs": []
    },
    {
      "cell_type": "code",
      "source": [
        "# Reemplazar \"?\" por NaN en las columnas problemáticas\n",
        "df_clean[\"Age\"] = df_clean[\"Age\"].replace(\"?\", np.nan)\n",
        "df_clean[\"Smoker\"] = df_clean[\"Smoker\"].replace(\"?\", np.nan)"
      ],
      "metadata": {
        "id": "ZOt7bivy6eDa"
      },
      "execution_count": null,
      "outputs": []
    },
    {
      "cell_type": "markdown",
      "source": [
        "### **4.2 Conversión de tipos de datos**\n",
        "\n",
        "Convertimos las columnas que deberían ser numéricas.\n",
        "En este caso:\n",
        "\n",
        "* Age debe ser numérica (está como texto).\n",
        "* Smoker debe ser numérica binaria (0 = no fuma, 1 = fuma)."
      ],
      "metadata": {
        "id": "0hihbbV97Dk3"
      }
    },
    {
      "cell_type": "code",
      "source": [
        "# Convertir tipos de datos\n",
        "df_clean[\"Age\"] = pd.to_numeric(df_clean[\"Age\"])\n",
        "df_clean[\"Smoker\"] = pd.to_numeric(df_clean[\"Smoker\"])"
      ],
      "metadata": {
        "id": "z6SVHZv_7IWS"
      },
      "execution_count": null,
      "outputs": []
    },
    {
      "cell_type": "markdown",
      "source": [
        "### **4.3 Comprobación general después de limpiar**"
      ],
      "metadata": {
        "id": "PeEdjRLS7NM7"
      }
    },
    {
      "cell_type": "code",
      "source": [
        "print(\"\\nInformación general del DataFrame limpio:\")\n",
        "df_clean.info()\n",
        "\n",
        "print(\"\\nValores nulos:\")\n",
        "print(df_clean.isnull().sum())"
      ],
      "metadata": {
        "colab": {
          "base_uri": "https://localhost:8080/"
        },
        "id": "3_sHFQpy7Pl2",
        "outputId": "efcbc877-aa0d-44de-b314-f44618b10011"
      },
      "execution_count": null,
      "outputs": [
        {
          "output_type": "stream",
          "name": "stdout",
          "text": [
            "\n",
            "Información general del DataFrame limpio:\n",
            "<class 'pandas.core.frame.DataFrame'>\n",
            "RangeIndex: 2772 entries, 0 to 2771\n",
            "Data columns (total 7 columns):\n",
            " #   Column    Non-Null Count  Dtype  \n",
            "---  ------    --------------  -----  \n",
            " 0   Age       2768 non-null   float64\n",
            " 1   Sex       2772 non-null   int64  \n",
            " 2   BMI       2772 non-null   float64\n",
            " 3   Children  2772 non-null   int64  \n",
            " 4   Smoker    2765 non-null   float64\n",
            " 5   Region    2772 non-null   int64  \n",
            " 6   Charges   2772 non-null   float64\n",
            "dtypes: float64(4), int64(3)\n",
            "memory usage: 151.7 KB\n",
            "\n",
            "Valores nulos:\n",
            "Age         4\n",
            "Sex         0\n",
            "BMI         0\n",
            "Children    0\n",
            "Smoker      7\n",
            "Region      0\n",
            "Charges     0\n",
            "dtype: int64\n"
          ]
        }
      ]
    },
    {
      "cell_type": "markdown",
      "source": [
        "### **4.4 Eliminación de filas con valores faltantes**"
      ],
      "metadata": {
        "id": "R4pWAbwf8UBJ"
      }
    },
    {
      "cell_type": "code",
      "source": [
        "df_clean = df_clean.dropna()\n",
        "print(\"\\nDimensiones del dataset limpio:\", df_clean.shape)"
      ],
      "metadata": {
        "colab": {
          "base_uri": "https://localhost:8080/"
        },
        "id": "Xe2YtT-m8Mtn",
        "outputId": "b8437c53-3906-49d8-eeec-70332bc1cbde"
      },
      "execution_count": null,
      "outputs": [
        {
          "output_type": "stream",
          "name": "stdout",
          "text": [
            "\n",
            "Dimensiones del dataset limpio: (2761, 7)\n"
          ]
        }
      ]
    },
    {
      "cell_type": "markdown",
      "source": [
        "### **4.5 Verificación final**"
      ],
      "metadata": {
        "id": "nFVRrtl48V6n"
      }
    },
    {
      "cell_type": "code",
      "source": [
        "print(\"\\nEstadísticas descriptivas del dataset limpio:\")\n",
        "print(df_clean.describe())"
      ],
      "metadata": {
        "colab": {
          "base_uri": "https://localhost:8080/"
        },
        "id": "i6mG7Y8f8Nmc",
        "outputId": "e521d831-09ef-44bb-aa24-fa2566518ebd"
      },
      "execution_count": null,
      "outputs": [
        {
          "output_type": "stream",
          "name": "stdout",
          "text": [
            "\n",
            "Estadísticas descriptivas del dataset limpio:\n",
            "               Age          Sex          BMI     Children       Smoker  \\\n",
            "count  2761.000000  2761.000000  2761.000000  2761.000000  2761.000000   \n",
            "mean     39.118798     1.507063    30.715737     1.100326     0.203912   \n",
            "std      14.093567     0.500041     6.133103     1.214527     0.402977   \n",
            "min      18.000000     1.000000    15.960000     0.000000     0.000000   \n",
            "25%      26.000000     1.000000    26.220000     0.000000     0.000000   \n",
            "50%      39.000000     2.000000    30.495000     1.000000     0.000000   \n",
            "75%      51.000000     2.000000    34.800000     2.000000     0.000000   \n",
            "max      64.000000     2.000000    53.130000     5.000000     1.000000   \n",
            "\n",
            "            Region       Charges  \n",
            "count  2761.000000   2761.000000  \n",
            "mean      2.561753  13274.759301  \n",
            "std       1.130557  12158.758072  \n",
            "min       1.000000   1121.873900  \n",
            "25%       2.000000   4718.203550  \n",
            "50%       3.000000   9377.904700  \n",
            "75%       4.000000  16577.779500  \n",
            "max       4.000000  63770.428010  \n"
          ]
        }
      ]
    },
    {
      "cell_type": "code",
      "source": [
        "print(df_clean.isnull().sum())"
      ],
      "metadata": {
        "colab": {
          "base_uri": "https://localhost:8080/"
        },
        "id": "N_LRO_-c8wZf",
        "outputId": "2c3567f0-be1d-4c8f-9b9f-168cfa696692"
      },
      "execution_count": null,
      "outputs": [
        {
          "output_type": "stream",
          "name": "stdout",
          "text": [
            "Age         0\n",
            "Sex         0\n",
            "BMI         0\n",
            "Children    0\n",
            "Smoker      0\n",
            "Region      0\n",
            "Charges     0\n",
            "dtype: int64\n"
          ]
        }
      ]
    },
    {
      "cell_type": "markdown",
      "source": [
        "# **5. Visualización de Distribuciones**"
      ],
      "metadata": {
        "id": "_ozsSyd7-Kfg"
      }
    },
    {
      "cell_type": "code",
      "source": [
        "plt.figure(figsize=(10,5))\n",
        "sns.histplot(df_clean['Age'], bins=30, kde=True)\n",
        "plt.title('Distribución de la Edad')\n",
        "plt.show()"
      ],
      "metadata": {
        "colab": {
          "base_uri": "https://localhost:8080/",
          "height": 487
        },
        "id": "QyhcBIQD_cJr",
        "outputId": "ca276a15-de0a-4640-cf33-ed582783d073"
      },
      "execution_count": null,
      "outputs": [
        {
          "output_type": "display_data",
          "data": {
            "text/plain": [
              "<Figure size 1000x500 with 1 Axes>"
            ],
            "image/png": "[encoded data removed]"
          },
          "metadata": {}
        }
      ]
    },
    {
      "cell_type": "markdown",
      "source": [
        "* La línea azul suavizada (kernel density) muestra la tendencia general de distribución.\n",
        "\n",
        "* El dataset tiene más jóvenes que adultos mayores, lo que puede afectar cómo el modelo aprende la relación entre edad y tabaquismo.\n",
        "\n",
        "* La distribución no está sesgada fuertemente hacia un extremo, salvo por ese grupo de 18–20 años."
      ],
      "metadata": {
        "id": "IEGYKeKCASQn"
      }
    },
    {
      "cell_type": "code",
      "source": [
        "sns.countplot(x='Smoker', data=df_clean)\n",
        "plt.title('Distribución de fumadores (Smoker)')\n",
        "plt.show()"
      ],
      "metadata": {
        "colab": {
          "base_uri": "https://localhost:8080/",
          "height": 472
        },
        "id": "BqOxCjWQ_tcv",
        "outputId": "beb03047-9e83-4db4-e0de-b56b84320161"
      },
      "execution_count": null,
      "outputs": [
        {
          "output_type": "display_data",
          "data": {
            "text/plain": [
              "<Figure size 640x480 with 1 Axes>"
            ],
            "image/png": "[encoded data removed]"
          },
          "metadata": {}
        }
      ]
    },
    {
      "cell_type": "markdown",
      "source": [
        "* La gráfica muestra la distribución de la variable objetivo “Smoker”, que indica si una persona fuma (1) o no fuma (0). Se observa que la mayoría de las personas en el conjunto de datos no fuman, mientras que solo una minoría son fumadores.\n",
        "\n",
        "* Esto refleja un desequilibrio en la variable objetivo, donde los no fumadores superan ampliamente a los fumadores (aproximadamente una proporción de 4 a 1). Este desbalance es importante porque puede afectar el rendimiento del modelo de Regresión Logística, ya que el algoritmo podría inclinarse a predecir la clase mayoritaria (no fumadores) con más frecuencia.\n",
        "\n",
        "* Por ello, será necesario tenerlo en cuenta durante el entrenamiento y la evaluación del modelo, utilizando métricas adecuadas como precisión, recall, F1-score o la curva ROC, y, si es necesario, aplicar técnicas de balanceo de clases para mejorar la capacidad del modelo de identificar correctamente a los fumadores."
      ],
      "metadata": {
        "id": "9O0EeL7pBGT2"
      }
    },
    {
      "cell_type": "markdown",
      "source": [
        "# **5.1. Búsqueda de Correlaciones**"
      ],
      "metadata": {
        "id": "78A0t0HQ_1QA"
      }
    },
    {
      "cell_type": "code",
      "source": [
        "# Calcular la matriz de correlación\n",
        "corr = df_clean.corr()\n",
        "\n",
        "# Visualizar con un mapa de calor\n",
        "plt.figure(figsize=(8,6))\n",
        "sns.heatmap(corr, annot=True, cmap='coolwarm', fmt=\".2f\")\n",
        "plt.title('Matriz de Correlación entre Variables Numéricas')\n",
        "plt.show()\n"
      ],
      "metadata": {
        "colab": {
          "base_uri": "https://localhost:8080/",
          "height": 545
        },
        "id": "-zWA8sIC_3nF",
        "outputId": "760a56b1-31ab-4ce0-f985-7bdaba67b9c3"
      },
      "execution_count": null,
      "outputs": [
        {
          "output_type": "display_data",
          "data": {
            "text/plain": [
              "<Figure size 800x600 with 2 Axes>"
            ],
            "image/png": "[encoded data removed]"
          },
          "metadata": {}
        }
      ]
    },
    {
      "cell_type": "markdown",
      "source": [
        "### **Principales observaciones**\n",
        "\n",
        "* “**Smoker**” y “**Charges**”:  **0.79**, Es la correlación más fuerte del mapa. Indica que las personas que fuman tienden a tener mayores costos médicos.\n",
        "\n",
        "Esto tiene coherencia con el contexto del negocio (el tabaquismo aumenta los riesgos de salud).\n",
        "\n",
        "* “**Age**” y “**Charges**”: **0.30**, Correlación positiva moderada: los costos médicos aumentan con la edad, lo cual también es lógico. Aunque no es muy alta, podría tener cierto peso en el modelo.\n",
        "\n",
        "* “**BMI**” y “**Charges**” : 0.20, Correlación baja pero positiva: las personas con mayor índice de masa corporal tienden a tener gastos médicos más altos.\n",
        "\n",
        "* Las demás correlaciones (por ejemplo, entre “Sex”, “Children”, “Region”) son muy bajas o cercanas a cero, lo que indica que no hay una relación lineal fuerte entre esas variables y las demás.\n",
        "\n",
        "### **Conclusión:**\n",
        "\n",
        "* La matriz muestra que no hay multicolinealidad fuerte (no hay variables predictoras que estén demasiado relacionadas entre sí, lo cual es bueno para la regresión logística).\n",
        "\n",
        "* La variable Smoker tiene una fuerte relación con Charges, lo que valida el sentido del análisis y del dataset.\n",
        "\n",
        "* Otras variables como Age y BMI aportan información adicional, aunque su correlación sea moderada."
      ],
      "metadata": {
        "id": "hp8RA4h2DTyd"
      }
    },
    {
      "cell_type": "markdown",
      "source": [
        "# **Fase 6: Preparación y Preprocesamiento de Datos**"
      ],
      "metadata": {
        "id": "d7ODI0HPEDop"
      }
    },
    {
      "cell_type": "markdown",
      "source": [
        "## **6.1. Manejo de Outliers**\n",
        "\n",
        "En la regresión logística pueden afectar los coeficientes y la frontera de decisión, haciendo que el modelo:\n",
        "\n",
        "* Sea más sensible a valores extremos,\n",
        "* Y, en consecuencia, clasifique mal ciertos casos.\n",
        "\n",
        "Por eso, eliminar o revisar outliers en variables continuas como BMI o Charges sigue siendo buena práctica antes de entrenar el modelo."
      ],
      "metadata": {
        "id": "_PBLFQ8qEpHl"
      }
    },
    {
      "cell_type": "code",
      "source": [
        "# --- Eliminación de outliers en BMI ---\n",
        "\n",
        "Q1 = df_clean['BMI'].quantile(0.25)\n",
        "Q3 = df_clean['BMI'].quantile(0.75)\n",
        "IQR = Q3 - Q1\n",
        "limite_inferior = Q1 - 1.5 * IQR\n",
        "limite_superior = Q3 + 1.5 * IQR\n",
        "\n",
        "# Filtramos solo valores razonables\n",
        "df_preprocessed = df_clean[(df_clean['BMI'] >= limite_inferior) & (df_clean['BMI'] <= limite_superior)]\n",
        "\n",
        "# Visualización antes y después\n",
        "plt.figure(figsize=(15,5))\n",
        "\n",
        "plt.subplot(1,2,1)\n",
        "sns.boxplot(x=df_clean['BMI'])\n",
        "plt.title(\"Antes de Filtrar Outliers (BMI)\")\n",
        "plt.xlabel(\"Índice de Masa Corporal\")\n",
        "\n",
        "plt.subplot(1,2,2)\n",
        "sns.boxplot(x=df_preprocessed['BMI'])\n",
        "plt.title(\"Después de Filtrar Outliers (BMI)\")\n",
        "plt.xlabel(\"Índice de Masa Corporal\")\n",
        "\n",
        "plt.show()\n",
        "\n",
        "print(f\"Filas antes: {len(df_clean)}, después: {len(df_preprocessed)}\")\n"
      ],
      "metadata": {
        "colab": {
          "base_uri": "https://localhost:8080/",
          "height": 507
        },
        "id": "p87M4tPXD_sS",
        "outputId": "89f397b4-2e61-4140-af44-f5b5319ccee5"
      },
      "execution_count": null,
      "outputs": [
        {
          "output_type": "display_data",
          "data": {
            "text/plain": [
              "<Figure size 1500x500 with 2 Axes>"
            ],
            "image/png": "[encoded data removed]"
          },
          "metadata": {}
        },
        {
          "output_type": "stream",
          "name": "stdout",
          "text": [
            "Filas antes: 2761, después: 2749\n"
          ]
        }
      ]
    },
    {
      "cell_type": "markdown",
      "source": [
        "La variable BMI (Índice de Masa Corporal) fue analizada para detectar valores atípicos mediante el método del rango intercuartílico (IQR).\n",
        "\n",
        "* En el gráfico de la izquierda (antes de filtrar), se observan varios puntos fuera de los límites del bigote derecho del boxplot, lo que indica la presencia de outliers, es decir, personas con valores de índice corporal anormalmente altos en comparación con el resto del conjunto de datos.\n",
        "\n",
        "* Después del filtrado (gráfico de la derecha), estos valores extremos fueron eliminados, manteniendo únicamente los registros dentro del rango considerado razonable (entre el límite inferior y superior definidos por el IQR).\n",
        "\n",
        "Esto permite que el modelo de regresión logística trabaje con datos más representativos, evitando que valores extremos sesguen el análisis o afecten la estimación de los coeficientes."
      ],
      "metadata": {
        "id": "aZ79K1c6F0Vh"
      }
    },
    {
      "cell_type": "code",
      "source": [
        "# --- Detección y eliminación de outliers usando la regla de Tukey (IQR) ---\n",
        "variables = ['Age', 'BMI', 'Charges']\n",
        "df_preprocessed = df_clean.copy()\n",
        "\n",
        "for var in variables:\n",
        "    Q1 = df_preprocessed[var].quantile(0.25)\n",
        "    Q3 = df_preprocessed[var].quantile(0.75)\n",
        "    IQR = Q3 - Q1\n",
        "    limite_inferior = Q1 - 1.5 * IQR\n",
        "    limite_superior = Q3 + 1.5 * IQR\n",
        "\n",
        "    # Filtrar valores dentro del rango\n",
        "    df_preprocessed = df_preprocessed[(df_preprocessed[var] >= limite_inferior) &\n",
        "                                      (df_preprocessed[var] <= limite_superior)]\n",
        "\n",
        "    print(f\"--- {var} ---\")\n",
        "    print(f\"Límites: {limite_inferior:.2f} a {limite_superior:.2f}\")\n",
        "    print(f\"Filas restantes: {len(df_preprocessed)}\\n\")\n",
        "\n",
        "# --- Visualización antes y después para cada variable ---\n",
        "plt.figure(figsize=(15, 10))\n",
        "\n",
        "for i, var in enumerate(variables):\n",
        "    plt.subplot(2, 3, i+1)\n",
        "    sns.boxplot(x=df_clean[var])\n",
        "    plt.title(f\"Antes de Filtrar Outliers ({var})\")\n",
        "    plt.xlabel(var)\n",
        "\n",
        "    plt.subplot(2, 3, i+4)\n",
        "    sns.boxplot(x=df_preprocessed[var])\n",
        "    plt.title(f\"Después de Filtrar Outliers ({var})\")\n",
        "    plt.xlabel(var)\n",
        "\n",
        "plt.tight_layout()\n",
        "plt.show()\n"
      ],
      "metadata": {
        "colab": {
          "base_uri": "https://localhost:8080/",
          "height": 1000
        },
        "id": "m6Wc4zGvFdBC",
        "outputId": "fb7d2326-3a6f-4992-9023-b41fc1db5f3e"
      },
      "execution_count": null,
      "outputs": [
        {
          "output_type": "stream",
          "name": "stdout",
          "text": [
            "--- Age ---\n",
            "Límites: -11.50 a 88.50\n",
            "Filas restantes: 2761\n",
            "\n",
            "--- BMI ---\n",
            "Límites: 13.35 a 47.67\n",
            "Filas restantes: 2749\n",
            "\n",
            "--- Charges ---\n",
            "Límites: -13084.24 a 34388.94\n",
            "Filas restantes: 2456\n",
            "\n"
          ]
        },
        {
          "output_type": "display_data",
          "data": {
            "text/plain": [
              "<Figure size 1500x1000 with 6 Axes>"
            ],
            "image/png": "[encoded data removed]"
          },
          "metadata": {}
        }
      ]
    },
    {
      "cell_type": "markdown",
      "source": [
        "En el análisis de las variables numéricas Age, BMI y Charges, se aplicó el método del rango intercuartílico (IQR) para detectar y eliminar valores atípicos extremos.\n",
        "El objetivo fue mejorar la calidad de los datos y evitar que casos anómalos afectaran el rendimiento del modelo de regresión logística.\n",
        "\n",
        "* En los boxplots superiores (antes de filtrar) se observan varios puntos fuera de los límites del rango aceptable, especialmente en las variables BMI y Charges, donde existen valores muy elevados respecto a la mayoría de los registros. Estos representan individuos con índices de masa corporal o costos médicos considerablemente superiores al promedio del conjunto.\n",
        "\n",
        "* Tras aplicar el filtrado (gráficos inferiores), los outliers fueron reducidos o eliminados, y las distribuciones se muestran más compactas y simétricas.\n",
        "En particular:\n",
        "\n",
        "* Age no presentaba valores atípicos significativos, por lo que casi no sufrió cambios.\n",
        "\n",
        "* BMI redujo varios puntos extremos altos, quedando dentro de un rango más realista (entre ~20 y 45).\n",
        "\n",
        "* Charges mostró la mayor cantidad de outliers, los cuales fueron acotados, eliminando casos con costos extremadamente altos (>35.000).\n",
        "\n",
        "En conclusión, el filtrado permitió obtener un conjunto de datos más limpio y equilibrado, conservando la información relevante mientras se reducen los sesgos causados por valores atípicos.\n",
        "Esto es especialmente importante en la regresión logística, ya que los outliers pueden distorsionar la estimación de los coeficientes y afectar la precisión del modelo."
      ],
      "metadata": {
        "id": "0IHD0nPAGwNZ"
      }
    },
    {
      "cell_type": "code",
      "source": [
        "print(\"\\n--- Resumen general de eliminación de outliers ---\")\n",
        "print(f\"Tamaño original: {df_clean.shape}\")\n",
        "print(f\"Tamaño después de filtrar: {df_preprocessed.shape}\")\n",
        "print(f\"Filas eliminadas: {df_clean.shape[0] - df_preprocessed.shape[0]}\")"
      ],
      "metadata": {
        "colab": {
          "base_uri": "https://localhost:8080/"
        },
        "id": "e2dRxkj2G5Gq",
        "outputId": "1eba9f7d-b1de-4b31-d33d-362d443a07a8"
      },
      "execution_count": null,
      "outputs": [
        {
          "output_type": "stream",
          "name": "stdout",
          "text": [
            "\n",
            "--- Resumen general de eliminación de outliers ---\n",
            "Tamaño original: (2761, 7)\n",
            "Tamaño después de filtrar: (2456, 7)\n",
            "Filas eliminadas: 305\n"
          ]
        }
      ]
    },
    {
      "cell_type": "markdown",
      "source": [
        "# **Fase 7: Separación de Características (X) y Objetivo (y)**"
      ],
      "metadata": {
        "id": "ekhc802dHQmO"
      }
    },
    {
      "cell_type": "code",
      "source": [
        "# --- Separación de características (X) y variable objetivo (y) ---\n",
        "\n",
        "X = df_preprocessed.drop(columns=['Smoker'])\n",
        "y = df_preprocessed['Smoker']\n",
        "\n",
        "# Verificación rápida\n",
        "print(\"Dimensiones de X:\", X.shape)\n",
        "print(\"Dimensiones de y:\", y.shape)"
      ],
      "metadata": {
        "colab": {
          "base_uri": "https://localhost:8080/"
        },
        "id": "t-K7hESYHhYv",
        "outputId": "6035a593-1ff1-4ccd-9624-e001e4194e9a"
      },
      "execution_count": null,
      "outputs": [
        {
          "output_type": "stream",
          "name": "stdout",
          "text": [
            "Dimensiones de X: (2456, 6)\n",
            "Dimensiones de y: (2456,)\n"
          ]
        }
      ]
    },
    {
      "cell_type": "markdown",
      "source": [
        "* En X quedaron 6 variables predictoras (todas menos “Smoker”).\n",
        "* En Y está solo la variable objetivo “Smoker”, con el mismo número de filas."
      ],
      "metadata": {
        "id": "ITBbuXggIMyq"
      }
    },
    {
      "cell_type": "code",
      "source": [
        "import pandas as pd\n",
        "\n",
        "# Aplicar One-Hot Encoding a 'Sex' y 'Region'\n",
        "X = pd.get_dummies(X, columns=['Sex', 'Region'], drop_first=True)\n",
        "\n",
        "# drop_first=True elimina la primera categoría de cada variable para evitar multicolinealidad.\n",
        "# Por ejemplo, en 'Sex', solo se mantiene 'Sex_2', si es 0, implica que es Sex_1 (mujer).\n",
        "\n",
        "# El DataFrame X ahora tendrá columnas como:\n",
        "# 'Age', 'BMI', 'Children', 'Charges', 'Sex_2', 'Region_2', 'Region_3', 'Region_4'"
      ],
      "metadata": {
        "id": "ESfoPT5rOmjF"
      },
      "execution_count": null,
      "outputs": []
    },
    {
      "cell_type": "markdown",
      "source": [
        "# **Fase 8: Selección y Entrenamiento del Modelo (Regresión Logística)**"
      ],
      "metadata": {
        "id": "TJa7aWenI18D"
      }
    },
    {
      "cell_type": "markdown",
      "source": [
        "## **8.1. División de Datos (Train-Test Split)**"
      ],
      "metadata": {
        "id": "rKUoggGwI79J"
      }
    },
    {
      "cell_type": "code",
      "source": [
        "# Dividir en entrenamiento (80%) y prueba (20%)\n",
        "X_train, X_test, y_train, y_test = train_test_split(\n",
        "    X, y, test_size=0.2, random_state=42\n",
        ")\n",
        "\n",
        "print(f\"Tamaño de X_train: {X_train.shape}\")\n",
        "print(f\"Tamaño de X_test: {X_test.shape}\")\n",
        "print(f\"Tamaño de y_train: {y_train.shape}\")\n",
        "print(f\"Tamaño de y_test: {y_test.shape}\")\n"
      ],
      "metadata": {
        "colab": {
          "base_uri": "https://localhost:8080/"
        },
        "id": "Zjy1K7MFIQDr",
        "outputId": "650f421a-f95d-4545-dea7-f960530766e0"
      },
      "execution_count": null,
      "outputs": [
        {
          "output_type": "stream",
          "name": "stdout",
          "text": [
            "Tamaño de X_train: (1964, 8)\n",
            "Tamaño de X_test: (492, 8)\n",
            "Tamaño de y_train: (1964,)\n",
            "Tamaño de y_test: (492,)\n"
          ]
        }
      ]
    },
    {
      "cell_type": "markdown",
      "source": [
        "## **8.2. Escalado de Características**"
      ],
      "metadata": {
        "id": "atjNObS-I7kx"
      }
    },
    {
      "cell_type": "code",
      "source": [
        "from sklearn.preprocessing import StandardScaler\n",
        "\n",
        "# Columnas numéricas continuas a escalar\n",
        "cols_to_scale = ['Age', 'BMI', 'Charges', 'Children']\n",
        "\n",
        "# Crear escalador\n",
        "scaler = StandardScaler()\n",
        "\n",
        "# Ajustar solo con X_train\n",
        "scaler.fit(X_train[cols_to_scale])\n",
        "\n",
        "# Crear copias de X_train y X_test\n",
        "X_train_scaled = X_train.copy()\n",
        "X_test_scaled = X_test.copy()\n",
        "\n",
        "# Escalar únicamente las columnas continuas\n",
        "X_train_scaled[cols_to_scale] = scaler.transform(X_train_scaled[cols_to_scale])\n",
        "X_test_scaled[cols_to_scale] = scaler.transform(X_test_scaled[cols_to_scale])\n",
        "\n",
        "print(\"Forma de X_train_scaled:\", X_train_scaled.shape)\n",
        "print(\"Forma de X_test_scaled:\", X_test_scaled.shape)\n"
      ],
      "metadata": {
        "colab": {
          "base_uri": "https://localhost:8080/"
        },
        "id": "aDWq2AjxJMaw",
        "outputId": "337d932f-81c1-444a-b96b-ec058341c053"
      },
      "execution_count": null,
      "outputs": [
        {
          "output_type": "stream",
          "name": "stdout",
          "text": [
            "Forma de X_train_scaled: (1964, 8)\n",
            "Forma de X_test_scaled: (492, 8)\n"
          ]
        }
      ]
    },
    {
      "cell_type": "markdown",
      "source": [
        "## **8.3. Entrenamiento del Modelo**"
      ],
      "metadata": {
        "id": "63WnQ5ifJk4q"
      }
    },
    {
      "cell_type": "code",
      "source": [
        "from sklearn.linear_model import LogisticRegression\n",
        "\n",
        "# Crear el modelo de regresión logística\n",
        "model = LogisticRegression(max_iter=1000, random_state=42)\n",
        "\n",
        "# Entrenar con los datos escalados\n",
        "model.fit(X_train_scaled, y_train)\n",
        "\n",
        "print(\"¡Modelo de Regresión Logística entrenado exitosamente!\")"
      ],
      "metadata": {
        "colab": {
          "base_uri": "https://localhost:8080/"
        },
        "id": "s4zEh-YNJnzo",
        "outputId": "787fab08-1fef-4511-8eac-04702b460b5f"
      },
      "execution_count": null,
      "outputs": [
        {
          "output_type": "stream",
          "name": "stdout",
          "text": [
            "¡Modelo de Regresión Logística entrenado exitosamente!\n"
          ]
        }
      ]
    },
    {
      "cell_type": "markdown",
      "source": [
        "# **9. Evaluación del modelo**"
      ],
      "metadata": {
        "id": "TbovlajpKRkW"
      }
    },
    {
      "cell_type": "markdown",
      "source": [
        "## **9.1. Predicciones con el modelo**"
      ],
      "metadata": {
        "id": "Lu07j7I8KZIO"
      }
    },
    {
      "cell_type": "code",
      "source": [
        "# --- Predicciones ---\n",
        "y_pred = model.predict(X_test_scaled)\n",
        "\n",
        "# También podemos obtener las probabilidades (útil para curva ROC)\n",
        "y_pred_proba = model.predict_proba(X_test_scaled)[:, 1]"
      ],
      "metadata": {
        "id": "JYwJPkBOKVlN"
      },
      "execution_count": null,
      "outputs": []
    },
    {
      "cell_type": "markdown",
      "source": [
        "## **9.2. Métricas de evaluación**"
      ],
      "metadata": {
        "id": "FAZiDmv2LI2u"
      }
    },
    {
      "cell_type": "code",
      "source": [
        "# --- Calcular métricas ---\n",
        "accuracy = accuracy_score(y_test, y_pred)\n",
        "matriz_conf = confusion_matrix(y_test, y_pred)\n",
        "reporte = classification_report(y_test, y_pred)\n",
        "\n",
        "print(f\"Exactitud del modelo: {accuracy:.4f}\")\n",
        "print(\"\\nMatriz de confusión:\\n\", matriz_conf)\n",
        "print(\"\\nReporte de clasificación:\\n\", reporte)"
      ],
      "metadata": {
        "colab": {
          "base_uri": "https://localhost:8080/"
        },
        "id": "TrilPDhlK61H",
        "outputId": "10246ec5-7cb6-4829-ad58-4d7c3a8341de"
      },
      "execution_count": null,
      "outputs": [
        {
          "output_type": "stream",
          "name": "stdout",
          "text": [
            "Exactitud del modelo: 0.9451\n",
            "\n",
            "Matriz de confusión:\n",
            " [[412  16]\n",
            " [ 11  53]]\n",
            "\n",
            "Reporte de clasificación:\n",
            "               precision    recall  f1-score   support\n",
            "\n",
            "         0.0       0.97      0.96      0.97       428\n",
            "         1.0       0.77      0.83      0.80        64\n",
            "\n",
            "    accuracy                           0.95       492\n",
            "   macro avg       0.87      0.90      0.88       492\n",
            "weighted avg       0.95      0.95      0.95       492\n",
            "\n"
          ]
        }
      ]
    },
    {
      "cell_type": "markdown",
      "source": [
        "**Exactitud** (Accuracy = 0.9451)\n",
        "\n",
        "* El modelo acierta aproximadamente el 94.5% de todas las predicciones.\n",
        "* Tu modelo usa edad, BMI, hijos, región y costo del seguro para adivinar si alguien fuma o no.\n",
        "\n",
        "**Análisis de la Clase de Interés (Fumadores, Clase 1.0):**\n",
        "\n",
        "* **Precision (0.77)**: De todas las veces que el modelo predijo que alguien fuma, acertó el 77% de las veces.\n",
        "\n",
        "* **Recall (0.83)**: De todas las personas que realmente fuman, el modelo logró detectar al 83%."
      ],
      "metadata": {
        "id": "-v09WfQHRpRZ"
      }
    },
    {
      "cell_type": "markdown",
      "source": [
        "## **9.3. Visualización de la matriz de confusión**"
      ],
      "metadata": {
        "id": "eknJtL2VLE9_"
      }
    },
    {
      "cell_type": "code",
      "source": [
        "plt.figure(figsize=(5,4))\n",
        "sns.heatmap(matriz_conf, annot=True, fmt='d', cmap='Blues')\n",
        "plt.title(\"Matriz de Confusión - Regresión Logística\")\n",
        "plt.xlabel(\"Predicción\")\n",
        "plt.ylabel(\"Valor Real\")\n",
        "plt.show()"
      ],
      "metadata": {
        "colab": {
          "base_uri": "https://localhost:8080/",
          "height": 411
        },
        "id": "5NY5XfBoLIJH",
        "outputId": "b048d89a-56aa-47e0-ba7f-209008ee90c2"
      },
      "execution_count": null,
      "outputs": [
        {
          "output_type": "display_data",
          "data": {
            "text/plain": [
              "<Figure size 500x400 with 2 Axes>"
            ],
            "image/png": "[encoded data removed]"
          },
          "metadata": {}
        }
      ]
    },
    {
      "cell_type": "markdown",
      "source": [
        "* 412 (TN): 412 personas que no fumaban y el modelo predijo correctamente “no fumador”.\n",
        "\n",
        "* 16 (FP):  16 personas que no fumaban, pero el modelo dijo “fumador” (error).\n",
        "\n",
        "* 11 (FN): 11 personas que sí fumaban, pero el modelo dijo “no fumador” (error).\n",
        "\n",
        "* 53 (TP): 53 personas que sí fumaban y el modelo predijo correctamente “fumador”."
      ],
      "metadata": {
        "id": "GSPi8lSuRLW5"
      }
    },
    {
      "cell_type": "markdown",
      "source": [
        "**Interpretación:**\n",
        "\n",
        "* El modelo predice muy bien a los no fumadores, pero debido al desbalance de clases (más no fumadores que fumadores), los errores se concentran en la clase minoritaria (fumadores).\n",
        "\n",
        "* La variable Charges fue especialmente útil para diferenciar fumadores de no fumadores, lo que tiene sentido porque fumar aumenta los costos médicos.\n",
        "\n",
        "**Limitaciones:**\n",
        "\n",
        "* Desbalance de clases: menos personas fumadoras que no fumadoras.\n",
        "\n",
        "* Algunos atributos como Region y Children aportan poco al modelo.\n",
        "\n",
        "* Con datos más recientes o más variados, la precisión podría mejorar."
      ],
      "metadata": {
        "id": "xDZrwRWmUkCY"
      }
    },
    {
      "cell_type": "markdown",
      "source": [
        "# **Prueba del modelo con un dato nuevo**"
      ],
      "metadata": {
        "id": "DThty8YYVXZQ"
      }
    },
    {
      "cell_type": "code",
      "source": [
        "# 1. Crear el DataFrame del nuevo paciente\n",
        "paciente_nuevo = pd.DataFrame({\n",
        "    'Age': [50],\n",
        "    'Sex': [2],      # 1 para female, 2 para male (según tu codificación)\n",
        "    'BMI': [31.0],\n",
        "    'Children': [1],\n",
        "    'Region': [4],   # 1:NE, 2:NW, 3:SW, 4:SE\n",
        "    'Charges': [25000]\n",
        "})\n",
        "\n",
        "print(\"Características del nuevo paciente:\")\n",
        "print(paciente_nuevo)"
      ],
      "metadata": {
        "colab": {
          "base_uri": "https://localhost:8080/"
        },
        "id": "zBHQIZ3ARTqS",
        "outputId": "d0174589-8706-45aa-fa4d-754b3a62d4c4"
      },
      "execution_count": null,
      "outputs": [
        {
          "output_type": "stream",
          "name": "stdout",
          "text": [
            "Características del nuevo paciente:\n",
            "   Age  Sex   BMI  Children  Region  Charges\n",
            "0   50    2  31.0         1       4    25000\n"
          ]
        }
      ]
    },
    {
      "cell_type": "code",
      "source": [
        "# 2. Aplicar One-Hot Encoding (igual que en el entrenamiento)\n",
        "# Usamos las mismas columnas categóricas: 'Sex' y 'Region'\n",
        "paciente_procesado = pd.get_dummies(paciente_nuevo, columns=['Sex', 'Region'], drop_first=True)\n",
        "\n",
        "# 3. Alinear las columnas\n",
        "# ¡Crucial! Aseguramos que el nuevo dato tenga exactamente las mismas columnas que el modelo espera.\n",
        "# Las columnas que no existan en 'paciente_procesado' se añadirán y se rellenarán con 0.\n",
        "paciente_procesado = paciente_procesado.reindex(columns=X_train.columns, fill_value=0)\n",
        "\n",
        "# 4. Escalar las características con el MISMO scaler\n",
        "# ¡MUY IMPORTANTE! Usamos solo .transform(), NUNCA .fit() en datos nuevos.\n",
        "columnas_a_escalar = ['Age', 'BMI', 'Charges', 'Children']\n",
        "paciente_procesado[columnas_a_escalar] = scaler.transform(paciente_procesado[columnas_a_escalar])\n",
        "\n",
        "print(\"\\nCaracterísticas del paciente nuevo (procesadas y listas para el modelo):\")\n",
        "print(paciente_procesado)"
      ],
      "metadata": {
        "colab": {
          "base_uri": "https://localhost:8080/"
        },
        "id": "BpbcfsCrXtX3",
        "outputId": "eb1245fe-9926-4493-ddd8-8156463eaacf"
      },
      "execution_count": null,
      "outputs": [
        {
          "output_type": "stream",
          "name": "stdout",
          "text": [
            "\n",
            "Características del paciente nuevo (procesadas y listas para el modelo):\n",
            "        Age       BMI  Children   Charges  Sex_2  Region_2  Region_3  Region_4\n",
            "0  0.784872  0.140458 -0.084861  2.150385      0         0         0         0\n"
          ]
        }
      ]
    },
    {
      "cell_type": "code",
      "source": [
        "# 5. Predecir la clase\n",
        "prediccion_clase = model.predict(paciente_procesado)\n",
        "resultado_clase = \"Fumador\" if prediccion_clase[0] == 1 else \"No Fumador\"\n",
        "\n",
        "# 6. Predecir la probabilidad\n",
        "prediccion_prob = model.predict_proba(paciente_procesado)\n",
        "prob_no_fumador = prediccion_prob[0][0]\n",
        "prob_fumador = prediccion_prob[0][1]"
      ],
      "metadata": {
        "id": "TExsJLzDXzQe"
      },
      "execution_count": null,
      "outputs": []
    },
    {
      "cell_type": "code",
      "source": [
        "print(f\"\\n--- Resultado de la Predicción ---\")\n",
        "print(f\"El modelo predice que el paciente es: {resultado_clase}\")\n",
        "print(f\"Probabilidad de ser 'No Fumador' (Clase 0): {prob_no_fumador:.2%}\")\n",
        "print(f\"Probabilidad de ser 'Fumador' (Clase 1):    {prob_fumador:.2%}\")"
      ],
      "metadata": {
        "colab": {
          "base_uri": "https://localhost:8080/"
        },
        "id": "uVY2V6jSX3Nv",
        "outputId": "c9f098c8-d885-4245-fc6b-3b6cde32e16b"
      },
      "execution_count": null,
      "outputs": [
        {
          "output_type": "stream",
          "name": "stdout",
          "text": [
            "\n",
            "--- Resultado de la Predicción ---\n",
            "El modelo predice que el paciente es: No Fumador\n",
            "Probabilidad de ser 'No Fumador' (Clase 0): 72.73%\n",
            "Probabilidad de ser 'Fumador' (Clase 1):    27.27%\n"
          ]
        }
      ]
    },
    {
      "cell_type": "markdown",
      "source": [
        "* El **modelo predice** que el paciente **no** es **fumador** con una probabilidad del **72.73%**, pero no es completamente seguro, ya que existe un **27.27%** de posibilidad de que sí lo sea. Esto indica que algunas características del paciente (como edad, BMI o gastos médicos altos) sugieren un riesgo de fumar, aunque no suficiente para cambiar la predicción.\n",
        "\n",
        "* En el **contexto de seguros**, este resultado se interpreta como un caso ambiguo o de alerta, que podría llevar a acciones como pedir exámenes adicionales, hacer preguntas sobre hábitos de vida o ajustar la prima del seguro."
      ],
      "metadata": {
        "id": "meNHZCkwYY8G"
      }
    }
  ]
}